{
 "cells": [
  {
   "cell_type": "markdown",
   "metadata": {
    "slideshow": {
     "slide_type": "slide"
    }
   },
   "source": [
    "# @decorators('are', 'fun')\n",
    "\n",
    "## Alex Kavanagh\n",
    "## Canonical\n",
    "\n",
    "### Python NE January 2016\n",
    "\n",
    "@ajkavanagh"
   ]
  },
  {
   "cell_type": "markdown",
   "metadata": {
    "collapsed": true,
    "slideshow": {
     "slide_type": "slide"
    }
   },
   "source": [
    "# What are we covering?\n",
    "\n",
    "* What IS a decorator?\n",
    "* Types of decorator\n",
    "* Why use a decorator\n",
    "* How to write a decorator\n",
    "* @memoize\n",
    "* Summary\n",
    "* Dojo: StateMachine"
   ]
  },
  {
   "cell_type": "markdown",
   "metadata": {
    "slideshow": {
     "slide_type": "slide"
    }
   },
   "source": [
    "# What IS a decorator?"
   ]
  },
  {
   "cell_type": "code",
   "execution_count": 1,
   "metadata": {
    "collapsed": true,
    "slideshow": {
     "slide_type": "fragment"
    }
   },
   "outputs": [],
   "source": [
    "from functools import wraps\n",
    "\n",
    "def decorator1(f):\n",
    "    print(\"I'm decorator 1!\")\n",
    "    return f\n",
    "\n",
    "def decorator2(prefix):\n",
    "    def inner(f):\n",
    "        def wrapped(*args, **kwargs):\n",
    "            return prefix + \" \" + f(*args, **kwargs)\n",
    "        return wraps(f)(wrapped)\n",
    "    return inner"
   ]
  },
  {
   "cell_type": "code",
   "execution_count": 2,
   "metadata": {
    "collapsed": false,
    "slideshow": {
     "slide_type": "fragment"
    }
   },
   "outputs": [
    {
     "name": "stdout",
     "output_type": "stream",
     "text": [
      "I'm decorator 1!\n"
     ]
    },
    {
     "data": {
      "text/plain": [
       "'hello Gordon'"
      ]
     },
     "execution_count": 2,
     "metadata": {},
     "output_type": "execute_result"
    }
   ],
   "source": [
    "@decorator1\n",
    "def function1a():\n",
    "    \"\"\"I'm function1a\"\"\"\n",
    "    pass\n",
    "\n",
    "@decorator2(\"hello\")\n",
    "def function2a(name):\n",
    "    \"\"\"I'm function2a\"\"\"\n",
    "    return name\n",
    "\n",
    "function1a()\n",
    "function2a('Gordon')"
   ]
  },
  {
   "cell_type": "code",
   "execution_count": 10,
   "metadata": {
    "collapsed": false,
    "slideshow": {
     "slide_type": "slide"
    }
   },
   "outputs": [
    {
     "name": "stdout",
     "output_type": "stream",
     "text": [
      "I'm decorator 1!\n"
     ]
    },
    {
     "data": {
      "text/plain": [
       "'hello Gordon'"
      ]
     },
     "execution_count": 10,
     "metadata": {},
     "output_type": "execute_result"
    }
   ],
   "source": [
    "def function1b():\n",
    "    \"\"\"I'm function1b\"\"\"\n",
    "    pass\n",
    "\n",
    "function1b = decorator1(function1b)\n",
    "\n",
    "# and\n",
    "\n",
    "def function2b(name):\n",
    "    \"\"\"I'm function2b\"\"\"\n",
    "    return name\n",
    "\n",
    "function2b = decorator2('hello')(function2b)\n",
    "\n",
    "function1b()\n",
    "function2b('Gordon')"
   ]
  },
  {
   "cell_type": "markdown",
   "metadata": {
    "slideshow": {
     "slide_type": "slide"
    }
   },
   "source": [
    "# Let's write a simple no-argument decorator\n",
    "\n",
    "Spec: return a JSONified string of the return argument."
   ]
  },
  {
   "cell_type": "code",
   "execution_count": 12,
   "metadata": {
    "collapsed": true,
    "slideshow": {
     "slide_type": "fragment"
    }
   },
   "outputs": [],
   "source": [
    "import json\n",
    "\n",
    "def jsonify(f):\n",
    "    def inner(*args, **kwargs):\n",
    "        result = f(*args, **kwargs)\n",
    "        if isinstance(result, dict):\n",
    "            return json.dumps(result)\n",
    "        if result is None:\n",
    "            return None\n",
    "        raise ValueError(\"Can't JSONify: {}\".format(result))\n",
    "    return inner"
   ]
  },
  {
   "cell_type": "markdown",
   "metadata": {
    "slideshow": {
     "slide_type": "slide"
    }
   },
   "source": [
    "## And try it out ..."
   ]
  },
  {
   "cell_type": "code",
   "execution_count": 18,
   "metadata": {
    "collapsed": true,
    "slideshow": {
     "slide_type": "fragment"
    }
   },
   "outputs": [],
   "source": [
    "@jsonify\n",
    "def return_json(x):\n",
    "    \"\"\"I return {'an': x} when called.\"\"\"\n",
    "    return {\"an\": x}"
   ]
  },
  {
   "cell_type": "code",
   "execution_count": 19,
   "metadata": {
    "collapsed": false,
    "slideshow": {
     "slide_type": "fragment"
    }
   },
   "outputs": [
    {
     "data": {
      "text/plain": [
       "'{\"an\": \"apple\"}'"
      ]
     },
     "execution_count": 19,
     "metadata": {},
     "output_type": "execute_result"
    }
   ],
   "source": [
    "return_json(\"apple\")"
   ]
  },
  {
   "cell_type": "code",
   "execution_count": 20,
   "metadata": {
    "collapsed": false,
    "slideshow": {
     "slide_type": "fragment"
    }
   },
   "outputs": [
    {
     "data": {
      "text/plain": [
       "'{\"an\": null}'"
      ]
     },
     "execution_count": 20,
     "metadata": {},
     "output_type": "execute_result"
    }
   ],
   "source": [
    "return_json(None)"
   ]
  },
  {
   "cell_type": "markdown",
   "metadata": {
    "slideshow": {
     "slide_type": "slide"
    }
   },
   "source": [
    "# But there's a small problem"
   ]
  },
  {
   "cell_type": "code",
   "execution_count": 22,
   "metadata": {
    "collapsed": false,
    "slideshow": {
     "slide_type": "fragment"
    }
   },
   "outputs": [
    {
     "name": "stdout",
     "output_type": "stream",
     "text": [
      "inner\n",
      "None\n"
     ]
    }
   ],
   "source": [
    "print(return_json.__name__)\n",
    "print(return_json.__doc__)"
   ]
  },
  {
   "cell_type": "markdown",
   "metadata": {
    "slideshow": {
     "slide_type": "slide"
    }
   },
   "source": [
    "## Enter functools.wraps()"
   ]
  },
  {
   "cell_type": "markdown",
   "metadata": {
    "slideshow": {
     "slide_type": "fragment"
    }
   },
   "source": [
    "* @functools.wraps() --> \"This is a convenience function for invoking update_wrapper() as a function decorator when defining a wrapper function. It is equivalent to partial(update_wrapper, wrapped=wrapped, assigned=assigned, updated=updated).\"   *https://docs.python.org/3/library/functools.html#functools.update_wrapper*"
   ]
  },
  {
   "cell_type": "markdown",
   "metadata": {
    "slideshow": {
     "slide_type": "fragment"
    }
   },
   "source": [
    "That was helpful."
   ]
  },
  {
   "cell_type": "markdown",
   "metadata": {
    "slideshow": {
     "slide_type": "fragment"
    }
   },
   "source": [
    "Not"
   ]
  },
  {
   "cell_type": "markdown",
   "metadata": {
    "slideshow": {
     "slide_type": "slide"
    }
   },
   "source": [
    "# Alright what about update_wrapper() ?\n",
    "\n",
    "* update_wrapper(...) --> \"Update a wrapper function to look like the wrapped function. ...\"\n",
    "\n",
    "Okay, now we're getting somewhere."
   ]
  },
  {
   "cell_type": "code",
   "execution_count": 24,
   "metadata": {
    "collapsed": true,
    "slideshow": {
     "slide_type": "fragment"
    }
   },
   "outputs": [],
   "source": [
    "def jsonify(f):\n",
    "    def inner(*args, **kwargs):\n",
    "        result = f(*args, **kwargs)\n",
    "        if isinstance(result, dict):\n",
    "            return json.dumps(result)\n",
    "        if result is None:\n",
    "            return None\n",
    "        raise ValueError(\"Can't JSONify: {}\".format(result))\n",
    "    return wraps(f)(inner)"
   ]
  },
  {
   "cell_type": "code",
   "execution_count": 25,
   "metadata": {
    "collapsed": true,
    "slideshow": {
     "slide_type": "fragment"
    }
   },
   "outputs": [],
   "source": [
    "@jsonify\n",
    "def return_json(x):\n",
    "    \"\"\"I return {'an': x} when called.\"\"\"\n",
    "    return {\"an\": x}"
   ]
  },
  {
   "cell_type": "code",
   "execution_count": 26,
   "metadata": {
    "collapsed": false,
    "slideshow": {
     "slide_type": "fragment"
    }
   },
   "outputs": [
    {
     "name": "stdout",
     "output_type": "stream",
     "text": [
      "return_json\n",
      "I return {'an': x} when called.\n"
     ]
    }
   ],
   "source": [
    "print(return_json.__name__)\n",
    "print(return_json.__doc__)"
   ]
  },
  {
   "cell_type": "markdown",
   "metadata": {
    "slideshow": {
     "slide_type": "slide"
    }
   },
   "source": [
    "# Types of Decorator\n",
    "\n",
    "## Simple function decorator\n",
    "\n",
    "```python\n",
    "@decorator\n",
    "def function(*args, **kwargs):\n",
    "    ...\n",
    "```\n",
    "\n",
    "## Function decorator with arguments\n",
    "\n",
    "```python\n",
    "@decorator(arg1, arg2)\n",
    "def function(...):\n",
    "    ...\n",
    "```\n",
    "\n",
    "## Class decorator (both types)\n",
    "\n",
    "```python\n",
    "@class_decorator(arg1, arg2)\n",
    "class Thing(object):\n",
    "    ...\n",
    "```"
   ]
  },
  {
   "cell_type": "markdown",
   "metadata": {
    "slideshow": {
     "slide_type": "slide"
    }
   },
   "source": [
    "# Why use a decorator?\n",
    "\n",
    "* Augment functionality of a function or class\n",
    "    * e.g. jsonify\n",
    "    * Memoize\n",
    "    * instrument (analyse, log)\n",
    "* Locks and synchronisation (e.g. `@synchronise(some_lock)`)\n",
    "* Enforcing authentication and authorisation (authn & authz)\n",
    "* Debugging\n",
    "* Aspect-orientated programming (https://en.wikipedia.org/wiki/Aspect-oriented_programming)\n",
    "* Transactions & Rate Limits (e.g. `@ratelimit(minutes=1, requests=10)`)"
   ]
  },
  {
   "cell_type": "markdown",
   "metadata": {
    "slideshow": {
     "slide_type": "fragment"
    }
   },
   "source": [
    "... and ..."
   ]
  },
  {
   "cell_type": "markdown",
   "metadata": {
    "slideshow": {
     "slide_type": "fragment"
    }
   },
   "source": [
    "* because it's fun!"
   ]
  },
  {
   "cell_type": "markdown",
   "metadata": {
    "slideshow": {
     "slide_type": "slide"
    }
   },
   "source": [
    "# Okay, now lets do @memoize"
   ]
  },
  {
   "cell_type": "code",
   "execution_count": 39,
   "metadata": {
    "collapsed": false,
    "slideshow": {
     "slide_type": "fragment"
    }
   },
   "outputs": [
    {
     "name": "stdout",
     "output_type": "stream",
     "text": [
      "Time taken: 0.50\n"
     ]
    }
   ],
   "source": [
    "import time\n",
    "\n",
    "def timeit(f):\n",
    "    @wraps(f)\n",
    "    def wrapped_f(*args, **kwargs):\n",
    "        start = time.time()\n",
    "        result = f(*args, **kwargs)\n",
    "        print(\"Time taken: {0:.2f}\".format(time.time() - start))\n",
    "        return result\n",
    "    return wrapped_f\n",
    "\n",
    "@timeit\n",
    "def timer(f):\n",
    "    return f()\n",
    "\n",
    "@timeit\n",
    "def check_timeit():\n",
    "    time.sleep(.5)\n",
    "\n",
    "check_timeit()"
   ]
  },
  {
   "cell_type": "markdown",
   "metadata": {
    "slideshow": {
     "slide_type": "slide"
    }
   },
   "source": [
    "# Fibonacci"
   ]
  },
  {
   "cell_type": "code",
   "execution_count": 48,
   "metadata": {
    "collapsed": false,
    "slideshow": {
     "slide_type": "fragment"
    }
   },
   "outputs": [
    {
     "name": "stdout",
     "output_type": "stream",
     "text": [
      "Time taken: 3.37\n"
     ]
    },
    {
     "data": {
      "text/plain": [
       "9227465"
      ]
     },
     "execution_count": 48,
     "metadata": {},
     "output_type": "execute_result"
    }
   ],
   "source": [
    "# Using recursion\n",
    "def fib(n):\n",
    "    if n == 1 or n == 2:\n",
    "        return 1\n",
    "    return fib(n-1)+fib(n-2)\n",
    "\n",
    "\n",
    "timer(lambda: fib(35))"
   ]
  },
  {
   "cell_type": "markdown",
   "metadata": {
    "slideshow": {
     "slide_type": "slide"
    }
   },
   "source": [
    "# Memoize"
   ]
  },
  {
   "cell_type": "code",
   "execution_count": 54,
   "metadata": {
    "collapsed": false,
    "slideshow": {
     "slide_type": "fragment"
    }
   },
   "outputs": [],
   "source": [
    "# note that this decorator ignores **kwargs\n",
    "def memoize(obj):\n",
    "    cache = obj.cache = {}\n",
    "\n",
    "    @wraps(obj)\n",
    "    def memoizer(*args, **kwargs):\n",
    "        if args not in cache:\n",
    "            cache[args] = obj(*args, **kwargs)\n",
    "        return cache[args]\n",
    "    return memoizer\n",
    "\n",
    "fib_try = memoize(fib)"
   ]
  },
  {
   "cell_type": "code",
   "execution_count": 55,
   "metadata": {
    "collapsed": false,
    "slideshow": {
     "slide_type": "fragment"
    }
   },
   "outputs": [
    {
     "name": "stdout",
     "output_type": "stream",
     "text": [
      "Time taken: 3.22\n"
     ]
    },
    {
     "data": {
      "text/plain": [
       "9227465"
      ]
     },
     "execution_count": 55,
     "metadata": {},
     "output_type": "execute_result"
    }
   ],
   "source": [
    "timer(lambda: fib_try(35))"
   ]
  },
  {
   "cell_type": "markdown",
   "metadata": {
    "slideshow": {
     "slide_type": "fragment"
    }
   },
   "source": [
    "**hey, why didn't that work?**"
   ]
  },
  {
   "cell_type": "code",
   "execution_count": 51,
   "metadata": {
    "collapsed": true,
    "slideshow": {
     "slide_type": "slide"
    }
   },
   "outputs": [],
   "source": [
    "@memoize\n",
    "def fib2(n):\n",
    "    if n == 1 or n == 2:\n",
    "        return 1\n",
    "    return fib2(n-1)+fib2(n-2)"
   ]
  },
  {
   "cell_type": "code",
   "execution_count": 53,
   "metadata": {
    "collapsed": false,
    "slideshow": {
     "slide_type": "fragment"
    }
   },
   "outputs": [
    {
     "name": "stdout",
     "output_type": "stream",
     "text": [
      "Time taken: 0.00\n"
     ]
    },
    {
     "data": {
      "text/plain": [
       "9227465"
      ]
     },
     "execution_count": 53,
     "metadata": {},
     "output_type": "execute_result"
    }
   ],
   "source": [
    "timer(lambda: fib2(35))"
   ]
  },
  {
   "cell_type": "code",
   "execution_count": 57,
   "metadata": {
    "collapsed": false,
    "slideshow": {
     "slide_type": "fragment"
    }
   },
   "outputs": [
    {
     "name": "stdout",
     "output_type": "stream",
     "text": [
      "Time taken: 0.00\n"
     ]
    },
    {
     "data": {
      "text/plain": [
       "354224848179261915075"
      ]
     },
     "execution_count": 57,
     "metadata": {},
     "output_type": "execute_result"
    }
   ],
   "source": [
    "timer(lambda: fib2(100))"
   ]
  },
  {
   "cell_type": "markdown",
   "metadata": {
    "slideshow": {
     "slide_type": "slide"
    }
   },
   "source": [
    "# Another way to write a decorator: with a Class"
   ]
  },
  {
   "cell_type": "code",
   "execution_count": 69,
   "metadata": {
    "collapsed": false,
    "slideshow": {
     "slide_type": "fragment"
    }
   },
   "outputs": [
    {
     "name": "stdout",
     "output_type": "stream",
     "text": [
      "Time taken: 0.00\n"
     ]
    },
    {
     "data": {
      "text/plain": [
       "354224848179261915075"
      ]
     },
     "execution_count": 69,
     "metadata": {},
     "output_type": "execute_result"
    }
   ],
   "source": [
    "## Example 5: Using memoization as decorator\n",
    "class Memoize:\n",
    "    \"\"\"Classy Memoize\"\"\"\n",
    "    def __init__(self, fn):\n",
    "        self.fn = fn\n",
    "        self.memo = {}\n",
    "    def __call__(self, arg):\n",
    "        if arg not in self.memo:\n",
    "            self.memo[arg] = self.fn(arg)\n",
    "        return self.memo[arg]\n",
    "    \n",
    "@Memoize\n",
    "def fib3(n):\n",
    "    \"\"\"fib3\"\"\"\n",
    "    if n == 1 or n == 2:\n",
    "        return 1\n",
    "    return fib3(n-1) + fib3(n-2)\n",
    "\n",
    "timer(lambda: fib3(100))"
   ]
  },
  {
   "cell_type": "code",
   "execution_count": 71,
   "metadata": {
    "collapsed": false,
    "slideshow": {
     "slide_type": "subslide"
    }
   },
   "outputs": [
    {
     "name": "stdout",
     "output_type": "stream",
     "text": [
      "<class '__main__.Memoize'>\n",
      "Classy Memoize\n"
     ]
    }
   ],
   "source": [
    "print(type(fib3))\n",
    "print(fib3.__doc__)\n",
    "\n",
    "### oops"
   ]
  },
  {
   "cell_type": "markdown",
   "metadata": {
    "slideshow": {
     "slide_type": "slide"
    }
   },
   "source": [
    "# Summary\n",
    "\n",
    "* Everything in Python is an object\n",
    "* Python 'reads' and executes files\n",
    "* Functions are first-class objects\n",
    "* `__name__` and `__doc__` need to be carried over?\n",
    "* Lot's of examples on the web!"
   ]
  },
  {
   "cell_type": "markdown",
   "metadata": {
    "slideshow": {
     "slide_type": "slide"
    }
   },
   "source": [
    "# Coder Dojo (Optional!)\n",
    "\n",
    "Write a 'StateMachine' class + decorator that allows you to write code like:\n",
    "\n",
    "```python\n",
    "stateMachine = StateMachine()\n",
    "\n",
    "@stateMachine.state('state1', 'action1')\n",
    "def x(*args):\n",
    "    pass\n",
    "    \n",
    "@stateMachine.state('state1', 'action2')\n",
    "def y(*args):\n",
    "    pass\n",
    "    \n",
    "@stateMachine.state('state2', 'action1')\n",
    "def z(*args):\n",
    "    pass\n",
    "    \n",
    "stateMachine.setState('state1')\n",
    "stateMachine.go('action2', args)  # calls z(*args)\n",
    "```"
   ]
  }
 ],
 "metadata": {
  "celltoolbar": "Slideshow",
  "kernelspec": {
   "display_name": "Python 3",
   "language": "python",
   "name": "python3"
  },
  "language_info": {
   "codemirror_mode": {
    "name": "ipython",
    "version": 3
   },
   "file_extension": ".py",
   "mimetype": "text/x-python",
   "name": "python",
   "nbconvert_exporter": "python",
   "pygments_lexer": "ipython3",
   "version": "3.4.3"
  }
 },
 "nbformat": 4,
 "nbformat_minor": 0
}
